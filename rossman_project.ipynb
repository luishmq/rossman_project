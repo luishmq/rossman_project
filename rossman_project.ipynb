{
 "cells": [
  {
   "cell_type": "markdown",
   "id": "51d077af",
   "metadata": {},
   "source": [
    "# 0.0 IMPORTS"
   ]
  },
  {
   "cell_type": "code",
   "execution_count": 1,
   "id": "021b2972",
   "metadata": {},
   "outputs": [],
   "source": [
    "import pandas as pd\n",
    "import numpy as np\n",
    "import seaborn as sns\n",
    "import inflection\n",
    "import math\n",
    "from matplotlib import pyplot as plt\n",
    "from IPython.core.display import HTML\n",
    "from IPython.display import Image"
   ]
  },
  {
   "cell_type": "markdown",
   "id": "64d2e0a0",
   "metadata": {},
   "source": [
    "## 0.1 Helper Functions"
   ]
  },
  {
   "cell_type": "code",
   "execution_count": 2,
   "id": "1a7e4fa9",
   "metadata": {},
   "outputs": [],
   "source": [
    "def jupyter_settings():\n",
    "    %matplotlib inline\n",
    "    %pylab inline\n",
    "\n",
    "    plt.style.use( 'bmh' )\n",
    "    plt.rcParams['figure.figsize'] = [25, 12]\n",
    "    plt.rcParams['font.size'] = 24\n",
    "    \n",
    "    display( HTML( '<style>.container { width:100% !important; }</style>') )\n",
    "    pd.options.display.max_columns = None\n",
    "    pd.options.display.max_rows = None\n",
    "    pd.set_option( 'display.expand_frame_repr', False )\n",
    "    \n",
    "    sns.set()"
   ]
  },
  {
   "cell_type": "code",
   "execution_count": 3,
   "id": "042bb317",
   "metadata": {},
   "outputs": [
    {
     "name": "stdout",
     "output_type": "stream",
     "text": [
      "Populating the interactive namespace from numpy and matplotlib\n"
     ]
    },
    {
     "data": {
      "text/html": [
       "<style>.container { width:100% !important; }</style>"
      ],
      "text/plain": [
       "<IPython.core.display.HTML object>"
      ]
     },
     "metadata": {},
     "output_type": "display_data"
    }
   ],
   "source": [
    "jupyter_settings()"
   ]
  },
  {
   "cell_type": "markdown",
   "id": "6ca438a6",
   "metadata": {},
   "source": [
    "## 0.2 Loading Data"
   ]
  },
  {
   "cell_type": "code",
   "execution_count": 4,
   "id": "adc9d649",
   "metadata": {},
   "outputs": [],
   "source": [
    "df_sales_raw = pd.read_csv('datasets/train.csv', low_memory=False)\n",
    "df_store_raw = pd.read_csv('datasets/store.csv', low_memory=False)\n",
    "\n",
    "# merge\n",
    "df_raw = pd.merge(df_sales_raw, df_store_raw, how='left', on='Store')"
   ]
  },
  {
   "cell_type": "code",
   "execution_count": 5,
   "id": "fcb1ff7c",
   "metadata": {},
   "outputs": [
    {
     "data": {
      "text/html": [
       "<div>\n",
       "<style scoped>\n",
       "    .dataframe tbody tr th:only-of-type {\n",
       "        vertical-align: middle;\n",
       "    }\n",
       "\n",
       "    .dataframe tbody tr th {\n",
       "        vertical-align: top;\n",
       "    }\n",
       "\n",
       "    .dataframe thead th {\n",
       "        text-align: right;\n",
       "    }\n",
       "</style>\n",
       "<table border=\"1\" class=\"dataframe\">\n",
       "  <thead>\n",
       "    <tr style=\"text-align: right;\">\n",
       "      <th></th>\n",
       "      <th>Store</th>\n",
       "      <th>DayOfWeek</th>\n",
       "      <th>Date</th>\n",
       "      <th>Sales</th>\n",
       "      <th>Customers</th>\n",
       "      <th>Open</th>\n",
       "      <th>Promo</th>\n",
       "      <th>StateHoliday</th>\n",
       "      <th>SchoolHoliday</th>\n",
       "      <th>StoreType</th>\n",
       "      <th>Assortment</th>\n",
       "      <th>CompetitionDistance</th>\n",
       "      <th>CompetitionOpenSinceMonth</th>\n",
       "      <th>CompetitionOpenSinceYear</th>\n",
       "      <th>Promo2</th>\n",
       "      <th>Promo2SinceWeek</th>\n",
       "      <th>Promo2SinceYear</th>\n",
       "      <th>PromoInterval</th>\n",
       "    </tr>\n",
       "  </thead>\n",
       "  <tbody>\n",
       "    <tr>\n",
       "      <th>194084</th>\n",
       "      <td>75</td>\n",
       "      <td>6</td>\n",
       "      <td>2015-02-07</td>\n",
       "      <td>5603</td>\n",
       "      <td>626</td>\n",
       "      <td>1</td>\n",
       "      <td>0</td>\n",
       "      <td>0</td>\n",
       "      <td>0</td>\n",
       "      <td>d</td>\n",
       "      <td>c</td>\n",
       "      <td>22440.0</td>\n",
       "      <td>12.0</td>\n",
       "      <td>2013.0</td>\n",
       "      <td>0</td>\n",
       "      <td>NaN</td>\n",
       "      <td>NaN</td>\n",
       "      <td>NaN</td>\n",
       "    </tr>\n",
       "  </tbody>\n",
       "</table>\n",
       "</div>"
      ],
      "text/plain": [
       "        Store  DayOfWeek        Date  Sales  Customers  Open  Promo StateHoliday  SchoolHoliday StoreType Assortment  CompetitionDistance  CompetitionOpenSinceMonth  CompetitionOpenSinceYear  Promo2  Promo2SinceWeek  Promo2SinceYear PromoInterval\n",
       "194084     75          6  2015-02-07   5603        626     1      0            0              0         d          c              22440.0                       12.0                    2013.0       0              NaN              NaN           NaN"
      ]
     },
     "execution_count": 5,
     "metadata": {},
     "output_type": "execute_result"
    }
   ],
   "source": [
    "df_raw.sample()"
   ]
  },
  {
   "cell_type": "markdown",
   "id": "597d18e8",
   "metadata": {},
   "source": [
    "# 1.0 DATA DESCRIPTION"
   ]
  },
  {
   "cell_type": "markdown",
   "id": "fb19b657",
   "metadata": {},
   "source": [
    "## 1.1 Rename Columns"
   ]
  },
  {
   "cell_type": "code",
   "execution_count": 6,
   "id": "7a4a2e34",
   "metadata": {},
   "outputs": [],
   "source": [
    "# Cópia para otimização\n",
    "df1 = df_raw.copy()"
   ]
  },
  {
   "cell_type": "code",
   "execution_count": 7,
   "id": "971cf53e",
   "metadata": {},
   "outputs": [],
   "source": [
    "old_cols = ['Store', 'DayOfWeek', 'Date', 'Sales', 'Customers', 'Open', 'Promo',\n",
    "       'StateHoliday', 'SchoolHoliday', 'StoreType', 'Assortment',\n",
    "       'CompetitionDistance', 'CompetitionOpenSinceMonth',\n",
    "       'CompetitionOpenSinceYear', 'Promo2', 'Promo2SinceWeek',\n",
    "       'Promo2SinceYear', 'PromoInterval']\n",
    "\n",
    "snake_case = lambda x: inflection.underscore(x)\n",
    "\n",
    "new_cols = list( map(snake_case, old_cols))\n",
    "df1.columns = new_cols"
   ]
  },
  {
   "cell_type": "markdown",
   "id": "c8621c88",
   "metadata": {},
   "source": [
    "## 1.2 Data Dimensions"
   ]
  },
  {
   "cell_type": "code",
   "execution_count": 8,
   "id": "4f1c2e08",
   "metadata": {},
   "outputs": [
    {
     "name": "stdout",
     "output_type": "stream",
     "text": [
      "Number of rows: 1017209\n",
      "Number of columns: 18\n"
     ]
    }
   ],
   "source": [
    "print(\"Number of rows: {}\".format(df1.shape[0]))\n",
    "print(\"Number of columns: {}\".format(df1.shape[1]))"
   ]
  },
  {
   "cell_type": "markdown",
   "id": "f5d91dfb",
   "metadata": {},
   "source": [
    "## 1.3 Data Types"
   ]
  },
  {
   "cell_type": "code",
   "execution_count": 9,
   "id": "05a57e32",
   "metadata": {},
   "outputs": [
    {
     "data": {
      "text/plain": [
       "store                                    int64\n",
       "day_of_week                              int64\n",
       "date                            datetime64[ns]\n",
       "sales                                    int64\n",
       "customers                                int64\n",
       "open                                     int64\n",
       "promo                                    int64\n",
       "state_holiday                           object\n",
       "school_holiday                           int64\n",
       "store_type                              object\n",
       "assortment                              object\n",
       "competition_distance                   float64\n",
       "competition_open_since_month           float64\n",
       "competition_open_since_year            float64\n",
       "promo2                                   int64\n",
       "promo2_since_week                      float64\n",
       "promo2_since_year                      float64\n",
       "promo_interval                          object\n",
       "dtype: object"
      ]
     },
     "execution_count": 9,
     "metadata": {},
     "output_type": "execute_result"
    }
   ],
   "source": [
    "df1['date'] = pd.to_datetime(df1['date'])\n",
    "df1.dtypes"
   ]
  },
  {
   "cell_type": "markdown",
   "id": "b7450811",
   "metadata": {},
   "source": [
    "## 1.4 Check NA"
   ]
  },
  {
   "cell_type": "code",
   "execution_count": 10,
   "id": "1d45c437",
   "metadata": {},
   "outputs": [
    {
     "data": {
      "text/plain": [
       "store                                0\n",
       "day_of_week                          0\n",
       "date                                 0\n",
       "sales                                0\n",
       "customers                            0\n",
       "open                                 0\n",
       "promo                                0\n",
       "state_holiday                        0\n",
       "school_holiday                       0\n",
       "store_type                           0\n",
       "assortment                           0\n",
       "competition_distance              2642\n",
       "competition_open_since_month    323348\n",
       "competition_open_since_year     323348\n",
       "promo2                               0\n",
       "promo2_since_week               508031\n",
       "promo2_since_year               508031\n",
       "promo_interval                  508031\n",
       "dtype: int64"
      ]
     },
     "execution_count": 10,
     "metadata": {},
     "output_type": "execute_result"
    }
   ],
   "source": [
    "df1.isna().sum()"
   ]
  },
  {
   "cell_type": "markdown",
   "id": "76ff238c",
   "metadata": {},
   "source": [
    "## 1.5 Fillout NA"
   ]
  },
  {
   "cell_type": "code",
   "execution_count": 11,
   "id": "a523c6d4",
   "metadata": {},
   "outputs": [
    {
     "data": {
      "text/plain": [
       "75860.0"
      ]
     },
     "execution_count": 11,
     "metadata": {},
     "output_type": "execute_result"
    }
   ],
   "source": [
    "df1['competition_distance'].max()"
   ]
  },
  {
   "cell_type": "code",
   "execution_count": 12,
   "id": "1491e130",
   "metadata": {},
   "outputs": [],
   "source": [
    "# competition_distance\n",
    "\n",
    "df1['competition_distance'] = df1['competition_distance'].apply(lambda x: 200000.0 if math.isnan(x) else x)\n",
    "\n",
    "# competition_open_since_month\n",
    "\n",
    "df1['competition_open_since_month'] = df1.apply(lambda x: x['date'].month if math.isnan(x['competition_open_since_month']) else x['competition_open_since_month'], axis=1)\n",
    "\n",
    "# competition_open_since_year\n",
    "\n",
    "df1['competition_open_since_year'] = df1.apply(lambda x: x['date'].year if math.isnan(x['competition_open_since_year']) else x['competition_open_since_year'], axis=1)\n",
    "\n",
    "# promo2_since_week\n",
    "\n",
    "df1['promo2_since_week'] = df1.apply(lambda x: x['date'].week if math.isnan(x['promo2_since_week']) else x['promo2_since_week'], axis=1)\n",
    "\n",
    "# promo2_since_year\n",
    "\n",
    "df1['promo2_since_year'] = df1.apply(lambda x: x['date'].year if math.isnan(x['promo2_since_year']) else x['promo2_since_year'], axis=1)\n",
    "\n",
    "# promo_interval\n",
    "\n",
    "month_map = {1: 'Jan', 2: 'Feb', 3: 'Mar', 4: 'Apr', 5: 'May', 6: 'Jun', 7: 'Jul', 8: 'Aug', 9: 'Sept', 10: 'Oct', 11: 'Nov', 12: 'Dec'}\n",
    "\n",
    "df1['promo_interval'].fillna(0, inplace=True)\n",
    "\n",
    "df1['month_map'] = df1['date'].dt.month.map(month_map)\n",
    "\n",
    "df1['is_promo'] = df1[['promo_interval', 'month_map']].apply(lambda x: 0 if x['promo_interval'] == 0 else 1 if x['month_map'] in x['promo_interval'].split(',') else 0, axis=1)"
   ]
  },
  {
   "cell_type": "code",
   "execution_count": null,
   "id": "99706225",
   "metadata": {},
   "outputs": [],
   "source": [
    "df1.isna().sum()"
   ]
  },
  {
   "cell_type": "markdown",
   "id": "842a1a01",
   "metadata": {},
   "source": [
    "## 1.6 Change Types"
   ]
  },
  {
   "cell_type": "code",
   "execution_count": null,
   "id": "ad7da7e5",
   "metadata": {},
   "outputs": [],
   "source": [
    "df1['competition_open_since_month'] = df1['competition_open_since_month'].astype(np.int64)\n",
    "df1['competition_open_since_year'] = df1['competition_open_since_year'].astype(np.int64)\n",
    "\n",
    "df1['promo2_since_week'] = df1['promo2_since_week'].astype(np.int64)\n",
    "df1['promo2_since_year'] = df1['promo2_since_year'].astype(np.int64)"
   ]
  },
  {
   "cell_type": "code",
   "execution_count": null,
   "id": "98e9ccda",
   "metadata": {},
   "outputs": [],
   "source": [
    "df1.dtypes"
   ]
  },
  {
   "cell_type": "markdown",
   "id": "15229a35",
   "metadata": {},
   "source": [
    "## 1.7 Descriptive Statistical"
   ]
  },
  {
   "cell_type": "code",
   "execution_count": null,
   "id": "6bbc4600",
   "metadata": {},
   "outputs": [],
   "source": [
    "num_attributes = df1.select_dtypes( include=['int64', 'float64'])\n",
    "cat_attributes = df1.select_dtypes( exclude=['int64', 'float64', 'datetime64[ns]'])"
   ]
  },
  {
   "cell_type": "code",
   "execution_count": null,
   "id": "19189b8f",
   "metadata": {},
   "outputs": [],
   "source": [
    "# Central tendency - mean, median\n",
    "ct1 = pd.DataFrame(num_attributes.apply(np.mean)).T\n",
    "ct2 = pd.DataFrame(num_attributes.apply(np.median)).T\n",
    "\n",
    "# Dispersion - std, max, min, range, skew, kurtosis\n",
    "d1 = pd.DataFrame(num_attributes.apply(np.std)).T\n",
    "d2 = pd.DataFrame(num_attributes.apply(max)).T\n",
    "d3 = pd.DataFrame(num_attributes.apply(min)).T\n",
    "d4 = pd.DataFrame(num_attributes.apply(lambda x: x.max() - x.min())).T\n",
    "d5 = pd.DataFrame(num_attributes.apply(lambda x: x.skew())).T\n",
    "d6 = pd.DataFrame(num_attributes.apply(lambda x: x.kurtosis())).T\n",
    "\n",
    "# Concatenate\n",
    "m = pd.concat([d2, d3, d4, ct1, ct2, d1, d5, d6]).T.reset_index()\n",
    "m.columns = ['attributes', 'min', 'max', 'range', 'mean', 'median', 'std', 'skew', 'kurtosis']\n",
    "\n",
    "m"
   ]
  },
  {
   "cell_type": "code",
   "execution_count": null,
   "id": "719f1ae7",
   "metadata": {},
   "outputs": [],
   "source": [
    "sns.distplot( df1['competition_distance'], kde=False )"
   ]
  },
  {
   "cell_type": "markdown",
   "id": "3dd1777f",
   "metadata": {},
   "source": [
    "## 1.7.2 Categorical Atribbutes"
   ]
  },
  {
   "cell_type": "code",
   "execution_count": null,
   "id": "e203ab1c",
   "metadata": {},
   "outputs": [],
   "source": [
    "cat_attributes.apply( lambda x: x.unique().shape[0] )"
   ]
  },
  {
   "cell_type": "code",
   "execution_count": null,
   "id": "a6e18d16",
   "metadata": {},
   "outputs": [],
   "source": [
    "aux1 = df1[(df1['state_holiday'] != 0) & (df1['sales'] > 0)]\n",
    "\n",
    "plt.subplot(1, 3, 1)\n",
    "sns.boxplot(x='state_holiday', y='sales', data=aux1)\n",
    "\n",
    "plt.subplot(1, 3, 2)\n",
    "sns.boxplot(x='store_type', y='sales', data=aux1)\n",
    "\n",
    "plt.subplot(1, 3, 3)\n",
    "sns.boxplot(x='assortment', y='sales', data=aux1)"
   ]
  },
  {
   "cell_type": "markdown",
   "id": "5f78daa4",
   "metadata": {},
   "source": [
    "# 2.0 Feature Engineering"
   ]
  },
  {
   "cell_type": "code",
   "execution_count": null,
   "id": "2328c582",
   "metadata": {},
   "outputs": [],
   "source": [
    "df2 = df1.copy()"
   ]
  },
  {
   "cell_type": "markdown",
   "id": "79460bf6",
   "metadata": {},
   "source": [
    "## 2.1 Mind Map Hypothesis"
   ]
  },
  {
   "cell_type": "code",
   "execution_count": null,
   "id": "da0f2103",
   "metadata": {},
   "outputs": [],
   "source": [
    "Image('img/mind_map_hypothesis.png')"
   ]
  },
  {
   "cell_type": "markdown",
   "id": "5b931e6a",
   "metadata": {},
   "source": [
    "## 2.2 Creating Hypothesis"
   ]
  },
  {
   "cell_type": "markdown",
   "id": "fceda85c",
   "metadata": {},
   "source": [
    "### 2.2.1 Hipóteses Loja"
   ]
  },
  {
   "cell_type": "code",
   "execution_count": null,
   "id": "a61f156a",
   "metadata": {},
   "outputs": [],
   "source": [
    "#1.Lojas com número maior de funcionários deveriam vender mais.\n",
    "\n",
    "#2.Lojas com maior capacidade de estoque deveriam vender mais.\n",
    "\n",
    "#3.Lojas com maior porte deveriam vender mais.\n",
    "\n",
    "#4.Lojas com maior sortimentos deveriam vender mais.\n",
    "\n",
    "#5.Lojas com competidores mais próximos deveriam vender menos.\n",
    "\n",
    "#6.Lojas com competidores à mais tempo deveriam vendem mais."
   ]
  },
  {
   "cell_type": "markdown",
   "id": "5e8b0b2d",
   "metadata": {},
   "source": [
    "### 2.2.2 Hipóteses Produtos"
   ]
  },
  {
   "cell_type": "code",
   "execution_count": null,
   "id": "aa3b623d",
   "metadata": {},
   "outputs": [],
   "source": [
    "#1. Lojas que investem mais em Marketing deveriam vender mais.\n",
    "\n",
    "#2. Lojas com maior exposição de produto deveriam vender mais.\n",
    "\n",
    "#3. Lojas com produtos com preço menor deveriam vender mais.\n",
    "\n",
    "#4. Lojas com promoções mais agressivas ( descontos maiores ), deveriam vender mais.\n",
    "\n",
    "#5. Lojas com promoções ativas por mais tempo deveriam vender mais.\n",
    "\n",
    "#6. Lojas com mais dias de promoção deveriam vender mais.\n",
    "\n",
    "#7. Lojas com mais promoções consecutivas deveriam vender mais."
   ]
  },
  {
   "cell_type": "markdown",
   "id": "ca1bb884",
   "metadata": {},
   "source": [
    "### 2.2.3 Hipóteses Tempo"
   ]
  },
  {
   "cell_type": "code",
   "execution_count": null,
   "id": "fafc2ac4",
   "metadata": {},
   "outputs": [],
   "source": [
    "#1. Lojas abertas durante o feriado de Natal deveriam vender mais.\n",
    "\n",
    "#2. Lojas deveriam vender mais ao longo dos anos.\n",
    "\n",
    "#3. Lojas deveriam vender mais no segundo semestre do ano.\n",
    "\n",
    "#4. Lojas deveriam vender mais depois do dia 10 de cada mês.\n",
    "\n",
    "#5. Lojas deveriam vender menos aos finais de semana.\n",
    "\n",
    "#6. Lojas deveriam vender menos durante os feriados escolares."
   ]
  },
  {
   "cell_type": "markdown",
   "id": "f9c889f3",
   "metadata": {},
   "source": [
    "## 2.3 Lista Final de Hipóteses"
   ]
  },
  {
   "cell_type": "code",
   "execution_count": null,
   "id": "34243351",
   "metadata": {},
   "outputs": [],
   "source": [
    "#1. Lojas com maior sortimentos deveriam vender mais.\n",
    "\n",
    "#2. Lojas com competidores mais próximos deveriam vender menos.\n",
    "\n",
    "#3. Lojas com competidores à mais tempo deveriam vendem mais.\n",
    "\n",
    "#4. Lojas com promoções ativas por mais tempo deveriam vender mais.\n",
    "\n",
    "#5. Lojas com mais dias de promoção deveriam vender mais.\n",
    "\n",
    "#6. Lojas com mais promoções consecutivas deveriam vender mais.\n",
    "\n",
    "#7. Lojas abertas durante o feriado de Natal deveriam vender mais.\n",
    "\n",
    "#8. Lojas deveriam vender mais ao longo dos anos.\n",
    "\n",
    "#9. Lojas deveriam vender mais no segundo semestre do ano.\n",
    "\n",
    "#10. Lojas deveriam vender mais depois do dia 10 de cada mês.\n",
    "\n",
    "#11. Lojas deveriam vender menos aos finais de semana.\n",
    "\n",
    "#12. Lojas deveriam vender menos durante os feriados escolares."
   ]
  },
  {
   "cell_type": "markdown",
   "id": "71ee4652",
   "metadata": {},
   "source": [
    "## Feature Engineering"
   ]
  },
  {
   "cell_type": "code",
   "execution_count": null,
   "id": "71f6e274",
   "metadata": {},
   "outputs": [],
   "source": [
    "df2.dtypes"
   ]
  },
  {
   "cell_type": "code",
   "execution_count": null,
   "id": "2f764355",
   "metadata": {},
   "outputs": [],
   "source": [
    "# year\n",
    "df2['year'] = df2['date'].dt.year\n",
    "\n",
    "# month\n",
    "df2['month'] = df2['date'].dt.month\n",
    "\n",
    "# day\n",
    "df2['day'] = df2['date'].dt.day\n",
    "\n",
    "# week of year\n",
    "df2['week_of_year'] = df2['date'].dt.weekofyear\n",
    "\n",
    "# year week\n",
    "df2['year_week'] = df2['date'].dt.strftime( '%Y-%W' )\n",
    "\n",
    "# competition since\n",
    "df2['competition_since'] = df2.apply( lambda x: datetime.datetime(year=x['competition_open_since_year'], month=x['competition_open_since_month'], day=1 ), axis=1 )\n",
    "df2['competition_time_month'] = ( ( df2['date'] - df2['competition_since'] )/30).apply( lambda x: x.days ).astype(int)\n",
    "# promo since\n",
    "df2['promo_since'] = df2['promo2_since_year'].astype( str ) + '-' + df2['promo2_since_week'].astype( str )\n",
    "df2['promo_since'] = df2['promo_since'].apply( lambda x: datetime.datetime.strptime( x + '-1', '%Y-%W-%w' ) - datetime.timedelta( days=7 ) )\n",
    "df2['promo_time_week'] = ( ( df2['date'] - df2['promo_since'] )/7 ).apply(lambda x: x.days ).astype( int )\n",
    "\n",
    "# assortment\n",
    "df2['assortment'] = df2['assortment'].apply( lambda x: 'basic' if x == 'a' else 'extra' if x == 'b' else 'extended' )\n",
    "\n",
    "# state holiday\n",
    "df2['state_holiday'] = df2['state_holiday'].apply( lambda x: 'public_holiday' if x == 'a' else 'easter_holiday' if x == 'b' else 'christmas' if x == 'c' else 'regular_day' )"
   ]
  },
  {
   "cell_type": "code",
   "execution_count": null,
   "id": "9598cea9",
   "metadata": {},
   "outputs": [],
   "source": [
    "df2.head().T"
   ]
  },
  {
   "cell_type": "markdown",
   "id": "99787920",
   "metadata": {},
   "source": [
    "## 3.0 Filtragem de variáveis"
   ]
  },
  {
   "cell_type": "code",
   "execution_count": null,
   "id": "a085b341",
   "metadata": {},
   "outputs": [],
   "source": [
    "df3 = df2.copy()"
   ]
  },
  {
   "cell_type": "markdown",
   "id": "fa7d7fdc",
   "metadata": {},
   "source": [
    "### 3.1 Filtragem das linhas "
   ]
  },
  {
   "cell_type": "code",
   "execution_count": null,
   "id": "60f2fda6",
   "metadata": {},
   "outputs": [],
   "source": [
    "df3 = df3[(df3['open'] != 0) & (df3['sales'] > 0)]"
   ]
  },
  {
   "cell_type": "markdown",
   "id": "7c0c9abd",
   "metadata": {},
   "source": [
    "### 3.2 Filtragem das colunas "
   ]
  },
  {
   "cell_type": "code",
   "execution_count": null,
   "id": "77a94353",
   "metadata": {},
   "outputs": [],
   "source": [
    "cols_drop = ['customers', 'open', 'promo_interval', 'month_map']\n",
    "df3 = df3.drop( cols_drop, axis=1 )"
   ]
  },
  {
   "cell_type": "markdown",
   "id": "95caa4ac",
   "metadata": {},
   "source": [
    "## 4.0 Análise Exploratória de Dados"
   ]
  },
  {
   "cell_type": "code",
   "execution_count": null,
   "id": "731a85bf",
   "metadata": {},
   "outputs": [],
   "source": [
    "df4 = df3.copy()"
   ]
  },
  {
   "cell_type": "markdown",
   "id": "91e0b7d5",
   "metadata": {},
   "source": [
    "### 4.1 Análise Univariada"
   ]
  },
  {
   "cell_type": "markdown",
   "id": "fe3c81c3",
   "metadata": {},
   "source": [
    "#### 4.1.1 Response Variable"
   ]
  },
  {
   "cell_type": "code",
   "execution_count": null,
   "id": "fab86925",
   "metadata": {},
   "outputs": [],
   "source": [
    "sns.distplot( df4['sales'], kde=False )"
   ]
  },
  {
   "cell_type": "markdown",
   "id": "ade5cc3a",
   "metadata": {},
   "source": [
    "#### 4.1.2 Numerical Variable "
   ]
  },
  {
   "cell_type": "code",
   "execution_count": null,
   "id": "c6d5d581",
   "metadata": {},
   "outputs": [],
   "source": [
    "num_attributes.hist( bins=25 )"
   ]
  },
  {
   "cell_type": "markdown",
   "id": "7f915a5a",
   "metadata": {},
   "source": [
    "#### 4.1.3 Categorical Variable "
   ]
  },
  {
   "cell_type": "code",
   "execution_count": null,
   "id": "389e873c",
   "metadata": {},
   "outputs": [],
   "source": [
    "# state_holiday\n",
    "plt.subplot( 3, 2, 1 )\n",
    "a = df4[df4['state_holiday'] != 'regular_day']\n",
    "sns.countplot( a['state_holiday'] )\n",
    "plt.subplot( 3, 2, 2 )\n",
    "sns.kdeplot( df4[df4['state_holiday'] == 'public_holiday']['sales'], label='public_holiday', shade=True )\n",
    "sns.kdeplot( df4[df4['state_holiday'] == 'easter_holiday']['sales'], label='easter_holiday', shade=True )\n",
    "sns.kdeplot( df4[df4['state_holiday'] == 'christmas']['sales'], label='christmas', shade=True )\n",
    "# store_type\n",
    "plt.subplot( 3, 2, 3 )\n",
    "sns.countplot( df4['store_type'] )\n",
    "plt.subplot( 3, 2, 4 )\n",
    "sns.kdeplot( df4[df4['store_type'] == 'a']['sales'], label='a', shade=True )\n",
    "sns.kdeplot( df4[df4['store_type'] == 'b']['sales'], label='b', shade=True )\n",
    "sns.kdeplot( df4[df4['store_type'] == 'c']['sales'], label='c', shade=True )\n",
    "sns.kdeplot( df4[df4['store_type'] == 'd']['sales'], label='d', shade=True )\n",
    "# assortment\n",
    "plt.subplot( 3, 2, 5 )\n",
    "sns.countplot( df4['assortment'] )\n",
    "plt.subplot( 3, 2, 6 )\n",
    "sns.kdeplot( df4[df4['assortment'] == 'extended']['sales'], label='extended', shade=True )\n",
    "sns.kdeplot( df4[df4['assortment'] == 'basic']['sales'], label='basic', shade=True )\n",
    "sns.kdeplot( df4[df4['assortment'] == 'extra']['sales'], label='extra', shade=True )"
   ]
  },
  {
   "cell_type": "markdown",
   "id": "cbedc045",
   "metadata": {},
   "source": [
    "### 4.2 Análise Bivariada"
   ]
  },
  {
   "cell_type": "markdown",
   "id": "10401b48",
   "metadata": {},
   "source": [
    "#### H1. Lojas com maiores sortimentos deveriam vender mais"
   ]
  },
  {
   "cell_type": "code",
   "execution_count": null,
   "id": "056bec25",
   "metadata": {},
   "outputs": [],
   "source": [
    "#### FALSA Lojas com maiores sortimentos vendem MENOS"
   ]
  },
  {
   "cell_type": "code",
   "execution_count": null,
   "id": "dcd05428",
   "metadata": {},
   "outputs": [],
   "source": [
    "aux1 = df4[['assortment', 'sales']].groupby( 'assortment' ).sum().reset_index()\n",
    "sns.barplot( x='assortment', y='sales', data=aux1 );\n",
    "aux2 = df4[['year_week', 'assortment', 'sales']].groupby(['year_week','assortment'] ).sum().reset_index()\n",
    "aux2.pivot( index='year_week', columns='assortment', values='sales' ).plot()\n",
    "aux3 = aux2[aux2['assortment'] == 'extra']\n",
    "aux3.pivot( index='year_week', columns='assortment', values='sales' ).plot()"
   ]
  },
  {
   "cell_type": "markdown",
   "id": "83ed7a7e",
   "metadata": {},
   "source": [
    "#### H2. Lojas com competidores mais próximos deveriam vender menos"
   ]
  },
  {
   "cell_type": "code",
   "execution_count": null,
   "id": "69f102af",
   "metadata": {},
   "outputs": [],
   "source": [
    "aux1 = df4[['competition_distance', 'sales']].groupby( 'competition_distance' ).sum().reset_index()\n",
    "plt.subplot( 1, 3, 1 )\n",
    "sns.scatterplot( x ='competition_distance', y='sales', data=aux1 );\n",
    "plt.subplot( 1, 3, 2 )\n",
    "bins = list( np.arange( 0, 20000, 1000) )\n",
    "aux1['competition_distance_binned'] = pd.cut( aux1['competition_distance'], bins=bins )\n",
    "aux2 = aux1[['competition_distance_binned', 'sales']].groupby('competition_distance_binned' ).sum().reset_index()\n",
    "sns.barplot( x='competition_distance_binned', y='sales', data=aux2 );\n",
    "plt.xticks( rotation=90 );\n",
    "plt.subplot( 1, 3, 3 )\n",
    "x = sns.heatmap( aux1.corr( method='pearson' ), annot=True );\n",
    "bottom, top = x.get_ylim()\n",
    "x.set_ylim( bottom+0.5, top-0.5 );"
   ]
  },
  {
   "cell_type": "markdown",
   "id": "a38f1d16",
   "metadata": {},
   "source": [
    "#### H3. Lojas com competidores à mais tempo deveriam vendem mais"
   ]
  },
  {
   "cell_type": "code",
   "execution_count": null,
   "id": "82284a2a",
   "metadata": {},
   "outputs": [],
   "source": [
    "plt.subplot( 1, 3, 1 )\n",
    "aux1 = df4[['competition_time_month', 'sales']].groupby('competition_time_month' ).sum().reset_index()\n",
    "aux2 = aux1[( aux1['competition_time_month'] < 120 ) & (aux1['competition_time_month'] != 0 )]\n",
    "sns.barplot( x='competition_time_month', y='sales', data=aux2 );\n",
    "plt.xticks( rotation=90 );\n",
    "plt.subplot( 1, 3, 2 )\n",
    "sns.regplot( x='competition_time_month', y='sales', data=aux2 );\n",
    "plt.subplot( 1, 3, 3 )\n",
    "x = sns.heatmap( aux1.corr( method='pearson'), annot=True );\n",
    "bottom, top = x.get_ylim()\n",
    "x.set_ylim( bottom+0.5, top-0.5);"
   ]
  },
  {
   "cell_type": "markdown",
   "id": "2c24fc54",
   "metadata": {},
   "source": [
    "#### H4. Lojas com promoções ativas por mais tempo deveriam vender mais"
   ]
  },
  {
   "cell_type": "code",
   "execution_count": null,
   "id": "1198a206",
   "metadata": {},
   "outputs": [],
   "source": [
    "aux1 = df4[['promo_time_week', 'sales']].groupby('promo_time_week').sum().reset_index()\n",
    "grid = GridSpec( 2, 3 )\n",
    "plt.subplot( grid[0,0] )\n",
    "aux2 = aux1[aux1['promo_time_week'] > 0] # promo extendido\n",
    "sns.barplot( x='promo_time_week', y='sales', data=aux2 );\n",
    "plt.xticks( rotation=90 );\n",
    "plt.subplot( grid[0,1] )\n",
    "sns.regplot( x='promo_time_week', y='sales', data=aux2 );\n",
    "plt.subplot( grid[1,0] )\n",
    "aux3 = aux1[aux1['promo_time_week'] < 0] # promo regular\n",
    "sns.barplot( x='promo_time_week', y='sales', data=aux3 );\n",
    "plt.xticks( rotation=90 );\n",
    "plt.subplot( grid[1,1] )\n",
    "sns.regplot( x='promo_time_week', y='sales', data=aux3 );\n",
    "plt.subplot( grid[:,2] )\n",
    "sns.heatmap( aux1.corr( method='pearson' ), annot=True );"
   ]
  },
  {
   "cell_type": "markdown",
   "id": "fb2ba7ec",
   "metadata": {},
   "source": [
    "#### H5. Lojas com mais dias de promoção deveriam vender mais"
   ]
  },
  {
   "cell_type": "markdown",
   "id": "51a5c619",
   "metadata": {},
   "source": [
    "#### H6. Lojas com mais promoções consecutivas deveriam vender mais"
   ]
  },
  {
   "cell_type": "code",
   "execution_count": null,
   "id": "aac4da9b",
   "metadata": {},
   "outputs": [],
   "source": [
    "df4[['promo', 'promo2', 'sales']].groupby( ['promo', 'promo2'] ).sum().reset_index()"
   ]
  },
  {
   "cell_type": "code",
   "execution_count": null,
   "id": "5a33e66c",
   "metadata": {},
   "outputs": [],
   "source": [
    "aux1 = df4[( df4['promo'] == 1 ) & ( df4['promo2'] == 1 )][['year_week', 'sales']].groupby( 'year_week' ).sum().reset_index()\n",
    "ax = aux1.plot()\n",
    "aux2 = df4[( df4['promo'] == 1 ) & ( df4['promo2'] == 0 )][['year_week', 'sales']].groupby( 'year_week' ).sum().reset_index()\n",
    "aux2.plot( ax=ax )\n",
    "ax.legend( labels=['Tradicional & Extendida', 'Extendida']);"
   ]
  },
  {
   "cell_type": "markdown",
   "id": "272450b0",
   "metadata": {},
   "source": [
    "#### H7. Lojas abertas durante o feriado de Natal deveriam vender mais"
   ]
  },
  {
   "cell_type": "code",
   "execution_count": null,
   "id": "06b68bfe",
   "metadata": {},
   "outputs": [],
   "source": [
    "aux = df4[df4['state_holiday'] != 'regular_day']\n",
    "plt.subplot( 1, 2, 1 )\n",
    "aux1 = aux[['state_holiday', 'sales']].groupby( 'state_holiday' ).sum().reset_index()\n",
    "sns.barplot( x='state_holiday', y='sales', data=aux1 );\n",
    "plt.subplot( 1, 2, 2 )\n",
    "aux2 = aux[['year', 'state_holiday', 'sales']].groupby( ['year', 'state_holiday'] ).sum().reset_index()\n",
    "sns.barplot( x='year', y='sales', hue='state_holiday', data=aux2 );"
   ]
  },
  {
   "cell_type": "markdown",
   "id": "c64a3148",
   "metadata": {},
   "source": [
    "#### H8. Lojas deveriam vender mais ao longo dos anos"
   ]
  },
  {
   "cell_type": "code",
   "execution_count": null,
   "id": "8b853b10",
   "metadata": {},
   "outputs": [],
   "source": [
    "aux1 = df4[['year', 'sales']].groupby( 'year' ).sum().reset_index()\n",
    "plt.subplot( 1, 3, 1 )\n",
    "sns.barplot( x='year', y='sales', data=aux1 );\n",
    "plt.subplot( 1, 3, 2 )\n",
    "sns.regplot( x='year', y='sales', data=aux1 );\n",
    "plt.subplot( 1, 3, 3 )\n",
    "sns.heatmap( aux1.corr( method='pearson' ), annot=True );"
   ]
  },
  {
   "cell_type": "markdown",
   "id": "16750ad8",
   "metadata": {},
   "source": [
    "#### H9. Lojas deveriam vender mais no segundo semestre do ano"
   ]
  },
  {
   "cell_type": "code",
   "execution_count": null,
   "id": "d8e1fd49",
   "metadata": {},
   "outputs": [],
   "source": [
    "aux1 = df4[['month', 'sales']].groupby( 'month' ).sum().reset_index()\n",
    "plt.subplot( 1, 3, 1 )\n",
    "sns.barplot( x='month', y='sales', data=aux1 );\n",
    "plt.subplot( 1, 3, 2 )\n",
    "sns.regplot( x='month', y='sales', data=aux1 );\n",
    "plt.subplot( 1, 3, 3 )\n",
    "sns.heatmap( aux1.corr( method='pearson' ), annot=True );"
   ]
  },
  {
   "cell_type": "markdown",
   "id": "6854ff53",
   "metadata": {},
   "source": [
    "#### H10. Lojas deveriam vender mais depois do dia 10 de cada mês"
   ]
  },
  {
   "cell_type": "code",
   "execution_count": null,
   "id": "4ad7a7b5",
   "metadata": {},
   "outputs": [],
   "source": [
    "aux1 = df4[['day', 'sales']].groupby( 'day' ).sum().reset_index()\n",
    "plt.subplot( 2, 2, 1 )\n",
    "sns.barplot( x='day', y='sales', data=aux1 );\n",
    "plt.subplot( 2, 2, 2 )\n",
    "sns.regplot( x='day', y='sales', data=aux1 );\n",
    "plt.subplot( 2, 2, 3 )\n",
    "sns.heatmap( aux1.corr( method='pearson' ), annot=True );\n",
    "aux1['before_after'] = aux1['day'].apply( lambda x: 'before_10_days' if x <= 10 else 'after_10_days' )\n",
    "aux2 =aux1[['before_after', 'sales']].groupby( 'before_after' ).sum().reset_index()\n",
    "plt.subplot( 2, 2, 4 )\n",
    "sns.barplot( x='before_after', y='sales', data=aux2 );"
   ]
  },
  {
   "cell_type": "markdown",
   "id": "824ece90",
   "metadata": {},
   "source": [
    "#### H11. Lojas deveriam vender menos aos finais de semana"
   ]
  },
  {
   "cell_type": "code",
   "execution_count": null,
   "id": "afbec383",
   "metadata": {},
   "outputs": [],
   "source": [
    "aux1 = df4[['day_of_week', 'sales']].groupby( 'day_of_week' ).sum().reset_index()\n",
    "plt.subplot( 1, 3, 1 )\n",
    "sns.barplot( x='day_of_week', y='sales', data=aux1 );\n",
    "plt.subplot( 1, 3, 2 )\n",
    "sns.regplot( x='day_of_week', y='sales', data=aux1 );\n",
    "plt.subplot( 1, 3, 3 )\n",
    "sns.heatmap( aux1.corr( method='pearson' ), annot=True );"
   ]
  },
  {
   "cell_type": "markdown",
   "id": "a5c8c297",
   "metadata": {},
   "source": [
    "#### H12. Lojas deveriam vender menos durante os feriados escolares"
   ]
  },
  {
   "cell_type": "code",
   "execution_count": null,
   "id": "b505c4ff",
   "metadata": {},
   "outputs": [],
   "source": [
    "aux1 = df4[['school_holiday', 'sales']].groupby( 'school_holiday' ).sum().reset_index()\n",
    "plt.subplot( 2, 1, 1 )\n",
    "sns.barplot( x='school_holiday', y='sales', data=aux1 );\n",
    "aux2 = df4[['month', 'school_holiday', 'sales']].groupby(['month','school_holiday'] ).sum().reset_index()\n",
    "plt.subplot( 2, 1, 2 )\n",
    "sns.barplot( x='month', y='sales', hue='school_holiday', data=aux2 );"
   ]
  },
  {
   "cell_type": "markdown",
   "id": "680b3bc7",
   "metadata": {},
   "source": [
    "### 4.2.1 Resumo das Hipoteses"
   ]
  },
  {
   "cell_type": "code",
   "execution_count": null,
   "id": "2a8672bc",
   "metadata": {},
   "outputs": [],
   "source": [
    "from tabulate import tabulate"
   ]
  },
  {
   "cell_type": "code",
   "execution_count": null,
   "id": "f3c3efc4",
   "metadata": {},
   "outputs": [],
   "source": [
    "tab =[['Hipoteses', 'Conclusao', 'Relevancia'],\n",
    "['H1', 'Falsa', 'Baixa'],\n",
    "['H2', 'Falsa', 'Media'],\n",
    "['H3', 'Falsa', 'Media'],\n",
    "['H4', 'Falsa', 'Baixa'],\n",
    "['H5', '-', '-'],\n",
    "['H6', 'Falsa', 'Baixa'],\n",
    "['H7', 'Falsa', 'Media'],\n",
    "['H8', 'Falsa', 'Alta'],\n",
    "['H9', 'Falsa', 'Alta'],\n",
    "['H10', 'Verdadeira', 'Alta'],\n",
    "['H11', 'Verdadeira', 'Alta'],\n",
    "['H12', 'Verdadeira', 'Baixa'],\n",
    "]\n",
    "print( tabulate( tab, headers='firstrow' ) )"
   ]
  },
  {
   "cell_type": "code",
   "execution_count": null,
   "id": "5d335696",
   "metadata": {},
   "outputs": [],
   "source": []
  },
  {
   "cell_type": "code",
   "execution_count": null,
   "id": "ba000c41",
   "metadata": {},
   "outputs": [],
   "source": []
  }
 ],
 "metadata": {
  "kernelspec": {
   "display_name": "Python 3 (ipykernel)",
   "language": "python",
   "name": "python3"
  },
  "language_info": {
   "codemirror_mode": {
    "name": "ipython",
    "version": 3
   },
   "file_extension": ".py",
   "mimetype": "text/x-python",
   "name": "python",
   "nbconvert_exporter": "python",
   "pygments_lexer": "ipython3",
   "version": "3.9.13"
  },
  "varInspector": {
   "cols": {
    "lenName": 16,
    "lenType": 16,
    "lenVar": 40
   },
   "kernels_config": {
    "python": {
     "delete_cmd_postfix": "",
     "delete_cmd_prefix": "del ",
     "library": "var_list.py",
     "varRefreshCmd": "print(var_dic_list())"
    },
    "r": {
     "delete_cmd_postfix": ") ",
     "delete_cmd_prefix": "rm(",
     "library": "var_list.r",
     "varRefreshCmd": "cat(var_dic_list()) "
    }
   },
   "types_to_exclude": [
    "module",
    "function",
    "builtin_function_or_method",
    "instance",
    "_Feature"
   ],
   "window_display": false
  }
 },
 "nbformat": 4,
 "nbformat_minor": 5
}
